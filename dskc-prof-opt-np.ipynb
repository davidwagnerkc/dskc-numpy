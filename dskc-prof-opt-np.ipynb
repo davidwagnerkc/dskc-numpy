{
 "cells": [
  {
   "cell_type": "markdown",
   "metadata": {
    "slideshow": {
     "slide_type": "slide"
    }
   },
   "source": [
    "# Profiling and Optimizing NumPy in 10 Minutes\n",
    "\n",
    "## David Wagner\n",
    "\n",
    "1. Don't Guess\n",
    "2. Don't Loop\n",
    "3. Don't Copy\n",
    "4. Don't Compile!\n",
    "5. Don't JIT?\n",
    "6. Don't Even Try"
   ]
  },
  {
   "cell_type": "code",
   "execution_count": null,
   "metadata": {
    "slideshow": {
     "slide_type": "skip"
    }
   },
   "outputs": [],
   "source": [
    "from __future__ import print_function\n",
    "\n",
    "def page_printer(data, start=0, screen_lines=0, pager_cmd=None):\n",
    "    if isinstance(data, dict):\n",
    "        data = data['text/plain']\n",
    "    print(data)\n",
    "\n",
    "import IPython.core.page\n",
    "IPython.core.page.page = page_printer"
   ]
  },
  {
   "cell_type": "code",
   "execution_count": null,
   "metadata": {
    "slideshow": {
     "slide_type": "skip"
    }
   },
   "outputs": [],
   "source": [
    "import warnings\n",
    "warnings.filterwarnings('ignore')"
   ]
  },
  {
   "cell_type": "markdown",
   "metadata": {
    "slideshow": {
     "slide_type": "slide"
    }
   },
   "source": [
    "# Don't Guess"
   ]
  },
  {
   "cell_type": "markdown",
   "metadata": {
    "slideshow": {
     "slide_type": "slide"
    }
   },
   "source": [
    "# Don't Guess - Measure 📏 "
   ]
  },
  {
   "cell_type": "code",
   "execution_count": 16,
   "metadata": {
    "scrolled": false,
    "slideshow": {
     "slide_type": "fragment"
    }
   },
   "outputs": [
    {
     "name": "stdout",
     "output_type": "stream",
     "text": [
      "The line_profiler extension is already loaded. To reload it, use:\n",
      "  %reload_ext line_profiler\n"
     ]
    }
   ],
   "source": [
    "import numpy as np\n",
    "%load_ext line_profiler"
   ]
  },
  {
   "cell_type": "code",
   "execution_count": 17,
   "metadata": {
    "scrolled": false,
    "slideshow": {
     "slide_type": "fragment"
    }
   },
   "outputs": [],
   "source": [
    "x = np.random.randint(1000, size=(1000, 1000), dtype=np.int64)\n",
    "y = np.random.randint(1000, size=(1000, 1000), dtype=np.int64)\n",
    "\n",
    "def maybe_slow(x, y):\n",
    "    add = x + y\n",
    "    mult = x * y\n",
    "    exp = x ** y\n",
    "    return add + mult + exp"
   ]
  },
  {
   "cell_type": "code",
   "execution_count": 19,
   "metadata": {
    "scrolled": false,
    "slideshow": {
     "slide_type": "fragment"
    }
   },
   "outputs": [
    {
     "name": "stdout",
     "output_type": "stream",
     "text": [
      "Timer unit: 0.001 s\n",
      "\n",
      "Total time: 0.030354 s\n",
      "File: <ipython-input-17-854fa816945a>\n",
      "Function: maybe_slow at line 4\n",
      "\n",
      "Line #      Hits         Time  Per Hit   % Time  Line Contents\n",
      "==============================================================\n",
      "     4                                           def maybe_slow(x, y):\n",
      "     5         1          4.6      4.6     15.2      add = x + y\n",
      "     6         1          3.4      3.4     11.1      mult = x * y\n",
      "     7         1         16.9     16.9     55.8      exp = x ** y\n",
      "     8         1          5.4      5.4     17.9      return add + mult + exp\n"
     ]
    }
   ],
   "source": [
    "%lprun -u 0.001 -f maybe_slow maybe_slow(x, y)"
   ]
  },
  {
   "cell_type": "markdown",
   "metadata": {
    "slideshow": {
     "slide_type": "skip"
    }
   },
   "source": [
    "### snakeviz\n",
    "![SnakeViz](https://data-profiler.readthedocs.io/en/latest/_images/profiling.png)"
   ]
  },
  {
   "cell_type": "markdown",
   "metadata": {
    "slideshow": {
     "slide_type": "slide"
    }
   },
   "source": [
    "# Don't Loop"
   ]
  },
  {
   "cell_type": "markdown",
   "metadata": {
    "slideshow": {
     "slide_type": "slide"
    }
   },
   "source": [
    "# Don't Loop - Vectorize!"
   ]
  },
  {
   "cell_type": "code",
   "execution_count": 20,
   "metadata": {
    "slideshow": {
     "slide_type": "fragment"
    }
   },
   "outputs": [],
   "source": [
    "def so_loopy_slow(x, y):\n",
    "    rows, cols = x.shape\n",
    "    for i in range(rows):\n",
    "        for j in range(cols):\n",
    "            x[i, j] += y\n",
    "    return x"
   ]
  },
  {
   "cell_type": "code",
   "execution_count": 21,
   "metadata": {
    "slideshow": {
     "slide_type": "fragment"
    }
   },
   "outputs": [
    {
     "name": "stdout",
     "output_type": "stream",
     "text": [
      "594 ms ± 87.6 ms per loop (mean ± std. dev. of 7 runs, 1 loop each)\n"
     ]
    }
   ],
   "source": [
    "%timeit so_loopy_slow(x, 5)"
   ]
  },
  {
   "cell_type": "code",
   "execution_count": 22,
   "metadata": {
    "slideshow": {
     "slide_type": "fragment"
    }
   },
   "outputs": [
    {
     "name": "stdout",
     "output_type": "stream",
     "text": [
      "2.77 ms ± 219 µs per loop (mean ± std. dev. of 7 runs, 100 loops each)\n"
     ]
    }
   ],
   "source": [
    "%timeit x + 5"
   ]
  },
  {
   "cell_type": "markdown",
   "metadata": {
    "slideshow": {
     "slide_type": "slide"
    }
   },
   "source": [
    "# Don't Copy"
   ]
  },
  {
   "cell_type": "code",
   "execution_count": 23,
   "metadata": {
    "slideshow": {
     "slide_type": "fragment"
    }
   },
   "outputs": [],
   "source": [
    "def in_place_ops(x, y):\n",
    "    new_array = x + y # Copy\n",
    "    x += y # In-place\n",
    "    x = x.flatten() # Copy\n",
    "    x = x.ravel() # In-place\n",
    "    return x"
   ]
  },
  {
   "cell_type": "code",
   "execution_count": 24,
   "metadata": {
    "slideshow": {
     "slide_type": "fragment"
    }
   },
   "outputs": [
    {
     "name": "stdout",
     "output_type": "stream",
     "text": [
      "Timer unit: 0.001 s\n",
      "\n",
      "Total time: 14.1561 s\n",
      "File: <ipython-input-23-2568efd48b16>\n",
      "Function: in_place_ops at line 1\n",
      "\n",
      "Line #      Hits         Time  Per Hit   % Time  Line Contents\n",
      "==============================================================\n",
      "     1                                           def in_place_ops(x, y):\n",
      "     2      1000       3658.9      3.7     25.8      new_array = x + y # Copy\n",
      "     3      1000       2949.3      2.9     20.8      x += y # In-place\n",
      "     4      1000       7516.9      7.5     53.1      x = x.flatten() # Copy\n",
      "     5      1000         28.7      0.0      0.2      x = x.ravel() # In-place\n",
      "     6      1000          2.3      0.0      0.0      return x\n"
     ]
    }
   ],
   "source": [
    "%lprun -u 0.001 -f in_place_ops [in_place_ops(x, y) for _ in range(1000)]"
   ]
  },
  {
   "cell_type": "markdown",
   "metadata": {
    "slideshow": {
     "slide_type": "slide"
    }
   },
   "source": [
    "# Don't  Compile, JIT!"
   ]
  },
  {
   "cell_type": "code",
   "execution_count": 25,
   "metadata": {},
   "outputs": [],
   "source": [
    "import numba\n",
    "from numba import jit\n",
    "import numexpr as ne"
   ]
  },
  {
   "cell_type": "code",
   "execution_count": 29,
   "metadata": {},
   "outputs": [],
   "source": [
    "def maths_py(a, b):\n",
    "    _ = [x * y for x, y in zip(a, b)]\n",
    "    _ = [x / y for x, y in zip(a, b)]\n",
    "    _ = [x + y for x, y in zip(a, b)]\n",
    "    _ = [x - y for x, y in zip(a, b)]\n",
    "    _ = [x % y for x, y in zip(a, b)]\n",
    "\n",
    "def maths_numpy(a, b):\n",
    "    a *= b\n",
    "    x1 = a / b\n",
    "    a += b\n",
    "    a -= b\n",
    "    a %= b\n",
    "    \n",
    "def maths_numexpr(a, b):\n",
    "    ne.evaluate('a * b', out=a)\n",
    "    x1 = ne.evaluate('a / b')\n",
    "    ne.evaluate('a + b', out=a)\n",
    "    ne.evaluate('a - b', out=a)\n",
    "    ne.evaluate('a % b', out=a)\n",
    "\n",
    "@jit(nopython=True, cache=True, fastmath=True, parallel=True)\n",
    "def maths_numba(a, b):\n",
    "    a *= b\n",
    "    x1 = a / b\n",
    "    a += b\n",
    "    a -= b\n",
    "    a %= b"
   ]
  },
  {
   "cell_type": "code",
   "execution_count": 31,
   "metadata": {},
   "outputs": [],
   "source": [
    "def all_(a, b):\n",
    "    x = maths_py(a, b)\n",
    "    x = maths_numpy(a, b)\n",
    "    x = maths_numexpr(a, b)\n",
    "    x = maths_numba(a, b)\n",
    "    return x"
   ]
  },
  {
   "cell_type": "code",
   "execution_count": 32,
   "metadata": {},
   "outputs": [
    {
     "name": "stdout",
     "output_type": "stream",
     "text": [
      "Timer unit: 0.001 s\n",
      "\n",
      "Total time: 0.846089 s\n",
      "File: <ipython-input-31-3ca3a639746a>\n",
      "Function: all_ at line 1\n",
      "\n",
      "Line #      Hits         Time  Per Hit   % Time  Line Contents\n",
      "==============================================================\n",
      "     1                                           def all_(a, b):\n",
      "     2        10        490.7     49.1     58.0      x = maths_py(a, b)\n",
      "     3        10        227.9     22.8     26.9      x = maths_numpy(a, b)\n",
      "     4        10        106.7     10.7     12.6      x = maths_numexpr(a, b)\n",
      "     5        10         20.7      2.1      2.4      x = maths_numba(a, b)\n",
      "     6        10          0.0      0.0      0.0      return x\n"
     ]
    }
   ],
   "source": [
    "%lprun -u .001 -f all_ [all_(x, y) for _ in range(10)]"
   ]
  },
  {
   "cell_type": "markdown",
   "metadata": {
    "slideshow": {
     "slide_type": "slide"
    }
   },
   "source": [
    "# Don't JIT, Compile?"
   ]
  },
  {
   "cell_type": "markdown",
   "metadata": {},
   "source": [
    "https://github.com/pybind/pybind11\n",
    "\n",
    "![PyBind](https://3.bp.blogspot.com/-HGuANPWdKJg/W90CXetle9I/AAAAAAAA5uA/Ie2dNb_pz_s52YUGCOgMqHWKgUo0heXewCLcBGAs/s1600/%25E8%259E%25A2%25E5%25B9%2595%25E5%25BF%25AB%25E7%2585%25A7%2B2018-11-03%2B%25E4%25B8%258A%25E5%258D%258810.04.03.png)"
   ]
  },
  {
   "cell_type": "markdown",
   "metadata": {
    "slideshow": {
     "slide_type": "slide"
    }
   },
   "source": [
    "# Don't Even Try"
   ]
  },
  {
   "cell_type": "markdown",
   "metadata": {},
   "source": [
    "https://speakerdeck.com/pycon2018/jake-vanderplas-performance-python-seven-strategies-for-optimizing-your-numerical-code?slide=102\n",
    "\n",
    "The Python community writes some great packages, make sure you are not re-inventing the wheel here!"
   ]
  }
 ],
 "metadata": {
  "celltoolbar": "Slideshow",
  "kernelspec": {
   "display_name": "Python 3",
   "language": "python",
   "name": "python3"
  },
  "language_info": {
   "codemirror_mode": {
    "name": "ipython",
    "version": 3
   },
   "file_extension": ".py",
   "mimetype": "text/x-python",
   "name": "python",
   "nbconvert_exporter": "python",
   "pygments_lexer": "ipython3",
   "version": "3.7.6"
  }
 },
 "nbformat": 4,
 "nbformat_minor": 4
}
